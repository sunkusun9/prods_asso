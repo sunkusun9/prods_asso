{
 "cells": [
  {
   "cell_type": "code",
   "execution_count": null,
   "id": "a6616b46",
   "metadata": {
    "colab": {
     "base_uri": "https://localhost:8080/"
    },
    "id": "a6616b46",
    "outputId": "728a37ec-4802-4799-e7e4-0af211548b5f"
   },
   "outputs": [],
   "source": []
  },
  {
   "cell_type": "markdown",
   "id": "b3b6f25a",
   "metadata": {
    "id": "b3b6f25a"
   },
   "source": [
    "# 실습 문제 1\n",
    "\n",
    "데이터셋: **Dataset_07.csv**, comma(\",\") 400rows, 9columns, UTF-8 인코딩\n",
    "\n",
    "|컬럼|정의|Type|\n",
    "|----|----|----|\n",
    "|Serial_No|구분자 번호|Double|\n",
    "|GRE| GRE 시험성적|Double|\n",
    "|TOEFL| TOEFL 시험성적|Double|\n",
    "|University_Rating| 대학 평가 그룹(1~5)|Double|\n",
    "|SOP|자기 소개서 점수(1~5)|Double|\n",
    "|LOR|추천서 점수(1~5)|Double|\n",
    "|CGPA|학부 평량 평점(10점 만점 환산 점수)|Double|\n",
    "|Research| 연구 참여 경험 여부(0/1)|Double|\n",
    "|Chance_of Admit|합격 가능성|Double|"
   ]
  },
  {
   "cell_type": "code",
   "execution_count": 3,
   "id": "2aFKdBwAohuv",
   "metadata": {
    "colab": {
     "base_uri": "https://localhost:8080/"
    },
    "id": "2aFKdBwAohuv",
    "outputId": "5c3d5991-1e79-4c0c-e0a5-655f915d9a84"
   },
   "outputs": [
    {
     "name": "stdout",
     "output_type": "stream",
     "text": [
      "--2023-11-22 10:45:11--  https://raw.githubusercontent.com/sunkusun9/prods_asso/main/Dataset_07.csv\n",
      "Resolving raw.githubusercontent.com (raw.githubusercontent.com)... 185.199.108.133, 185.199.109.133, 185.199.111.133, ...\n",
      "Connecting to raw.githubusercontent.com (raw.githubusercontent.com)|185.199.108.133|:443... connected.\n",
      "HTTP request sent, awaiting response... 200 OK\n",
      "Length: 12890 (13K) [text/plain]\n",
      "Saving to: ‘Dataset_07.csv’\n",
      "\n",
      "\r",
      "Dataset_07.csv        0%[                    ]       0  --.-KB/s               \r",
      "Dataset_07.csv      100%[===================>]  12.59K  --.-KB/s    in 0s      \n",
      "\n",
      "2023-11-22 10:45:11 (33.4 MB/s) - ‘Dataset_07.csv’ saved [12890/12890]\n",
      "\n"
     ]
    }
   ],
   "source": [
    "!wget https://raw.githubusercontent.com/sunkusun9/prods_asso/main/Dataset_07.csv"
   ]
  },
  {
   "cell_type": "code",
   "execution_count": null,
   "id": "3befd68b",
   "metadata": {
    "colab": {
     "base_uri": "https://localhost:8080/",
     "height": 238
    },
    "id": "3befd68b",
    "outputId": "4ee36646-f584-49a8-d229-e76e640e7d41"
   },
   "outputs": [],
   "source": []
  },
  {
   "cell_type": "markdown",
   "id": "8cf9c56b",
   "metadata": {
    "id": "8cf9c56b"
   },
   "source": [
    "**1**. 합격 가능성에 GRE, TOEFL, CGPA 점수 가운데 가장 영향이 큰 것이 어떤 점수인지 알아 보기 위해서 상관 분석을 수행한다.\n",
    "\n",
    "- 피어슨(Pearson) 상관계수 값을 구한다.\n",
    "- Chance_of_Admit와의 가장 큰 상관계수 값을 가지는 항목의 상관계수를 소수점 넷째 자리에서 반올림하여 셋째 자리까지 기술하시오.\n",
    "\n",
    "\n",
    "(답안 예시) 0.123\n"
   ]
  },
  {
   "cell_type": "code",
   "execution_count": null,
   "id": "f39c03e5",
   "metadata": {
    "id": "f39c03e5",
    "outputId": "b1340982-7f8d-4fec-c461-b189a5addd47"
   },
   "outputs": [],
   "source": []
  },
  {
   "cell_type": "markdown",
   "id": "38496e9b",
   "metadata": {
    "id": "38496e9b"
   },
   "source": [
    "**2**. GRE 점수의 평균 이상을 받은 그룹과 평균 미만을 받은 그룹의 CGPA 평균은 차이가 있는지 검정을 하고자 한다.\n",
    "\n",
    "- 적절한 검정 방법을 선택하고 양측 검정을 수행하시오 (등분산으로 가정)\n",
    "\n",
    "- 검정 결과, 검정통계량의 추정치를 소수점 셋째 자리에서 반올림하여 소수점 두 자리까지 기술하시오.\n",
    "\n",
    "\n",
    "Python 함수 가이드\n",
    "```\n",
    "scipy.stats에 있는 기능 활용\n",
    "```"
   ]
  },
  {
   "cell_type": "code",
   "execution_count": null,
   "id": "60bcb786",
   "metadata": {
    "id": "60bcb786",
    "outputId": "05256fa4-f59e-4ea2-bfe1-746e27cff7b8"
   },
   "outputs": [],
   "source": []
  },
  {
   "cell_type": "markdown",
   "id": "c0004ba7",
   "metadata": {
    "id": "c0004ba7"
   },
   "source": [
    "**3**. Chance_of_Admit 확률이 0.5를 초과하면 합격으로, 이하이면 불합격으로 구분하고 로지스틱 회귀분석을 수행하시오.\n",
    "\n",
    "- 원데이터만 사용하고, 원데이터 가운데 Serial_No와 Label은 모형에서 제외\n",
    "\n",
    "- 각 설정값은 다음과 같이 지정하고, 언급되지 않은 사항은 기본 설정값을 사용하시오. Seed : 123\n",
    "\n",
    "- 로지스틱 회귀분석 수행 결과에서 로지스틱 회귀계수의 절대값이 가장 큰 변수와 그 값을 기술하시오.\n",
    "\n",
    "(로지스틱 회귀계수는 반올림하여 소수점 둘째 자리까지 / Intercept는 제외)\n",
    "\n",
    "(답안 예시) abc, 0.12\n",
    "\n",
    "Python 함수 가이드\n",
    "```\n",
    "sklearn.linear_model.LogisticRegression, solver='liblinear', random_state=123\n",
    "```"
   ]
  },
  {
   "cell_type": "code",
   "execution_count": null,
   "id": "5af59b3b",
   "metadata": {
    "id": "5af59b3b",
    "outputId": "b0ff49fd-e0f6-4ceb-c73f-51d53cb177d8"
   },
   "outputs": [],
   "source": []
  },
  {
   "cell_type": "markdown",
   "id": "02cd1143",
   "metadata": {
    "id": "02cd1143"
   },
   "source": [
    "# 실습 문제 2\n",
    "\n",
    "데이터셋: **Dataset_06.csv**, comma(\",\") 4323rows, 19columns, UTF-8 인코딩\n",
    "\n",
    "|컬럼|정의|Type|\n",
    "|--|---------|------|\n",
    "|id|매물 번호|Double|\n",
    "|date|날짜|String|\n",
    "|price|거래 가격|Double|\n",
    "|bedrooms|방 개수|Double|\n",
    "|bathrooms|화장실 개수 (화장실은 있으나 샤워기 없는 경우 0.5로 처리)|Double|\n",
    "|sqft_living|건축물 면적|Double|\n",
    "|sqft_lot|대지 면적|Double|\n",
    "|floors|건축물의 층수|Double|\n",
    "|waterfront|강변 조망 가능 여부 (0 / 1)|Double|\n",
    "|view|경관 (나쁨에서 좋음으로 0 ~ 4로 표시)|Double|\n",
    "|condition|관리 상태 (나쁨에서 좋음으로 1 ~ 5로 표시)|Double|\n",
    "|grade|등급 (낮음에서 높음으로 1 ~ 13으로 표시)|Double|\n",
    "|sqft_above|지상 면적|Double|\n",
    "|sqft_basement|지하실 면적|Double|\n",
    "|yr_built|건축 연도|Double|\n",
    "|yr_renovated|개축 연도|Double|\n",
    "|zipcode|우편번호|Double|\n",
    "|sqft_living15|15개의 인근 주택의 평균 건물 면적|Double|\n",
    "|sqft_lot15\t|15개의 인근 주택의 평균 대지 면적|Double|\n"
   ]
  },
  {
   "cell_type": "code",
   "execution_count": 5,
   "id": "srK0dy0Hopz6",
   "metadata": {
    "colab": {
     "base_uri": "https://localhost:8080/"
    },
    "id": "srK0dy0Hopz6",
    "outputId": "468a8ae3-9b91-4e18-967a-19d3eae44a36"
   },
   "outputs": [
    {
     "name": "stdout",
     "output_type": "stream",
     "text": [
      "--2023-11-22 10:45:43--  https://raw.githubusercontent.com/sunkusun9/prods_asso/main/Dataset_06.csv\n",
      "Resolving raw.githubusercontent.com (raw.githubusercontent.com)... 185.199.110.133, 185.199.111.133, 185.199.109.133, ...\n",
      "Connecting to raw.githubusercontent.com (raw.githubusercontent.com)|185.199.110.133|:443... connected.\n",
      "HTTP request sent, awaiting response... 200 OK\n",
      "Length: 414271 (405K) [text/plain]\n",
      "Saving to: ‘Dataset_06.csv’\n",
      "\n",
      "\r",
      "Dataset_06.csv        0%[                    ]       0  --.-KB/s               \r",
      "Dataset_06.csv      100%[===================>] 404.56K  --.-KB/s    in 0.05s   \n",
      "\n",
      "2023-11-22 10:45:43 (7.66 MB/s) - ‘Dataset_06.csv’ saved [414271/414271]\n",
      "\n"
     ]
    }
   ],
   "source": [
    "!wget https://raw.githubusercontent.com/sunkusun9/prods_asso/main/Dataset_06.csv"
   ]
  },
  {
   "cell_type": "code",
   "execution_count": null,
   "id": "77bfc959",
   "metadata": {
    "colab": {
     "base_uri": "https://localhost:8080/",
     "height": 206
    },
    "id": "77bfc959",
    "outputId": "08db48ad-407c-4a69-ed22-f846512aebfd"
   },
   "outputs": [],
   "source": []
  },
  {
   "cell_type": "markdown",
   "id": "adf1047d",
   "metadata": {
    "id": "adf1047d"
   },
   "source": [
    "**1** 강변 조망이 가능한지 여부(waterfront)에 따라 평균 주택 가격을 계산하고\n",
    "\n",
    "조망이 가능한 경우와 그렇지 않은 경우의 평균 가격 차이의 절대값을 구하시오.\n",
    "\n",
    "답은 소수점 이하는 버리고 정수부만 기술하시오.\n",
    "\n",
    "(답안 예시) 1234567\n"
   ]
  },
  {
   "cell_type": "code",
   "execution_count": null,
   "id": "1cd39c1a",
   "metadata": {
    "colab": {
     "base_uri": "https://localhost:8080/"
    },
    "id": "1cd39c1a",
    "outputId": "1b7b3076-47de-410a-fd52-fb839dcad906"
   },
   "outputs": [],
   "source": []
  },
  {
   "cell_type": "markdown",
   "id": "b9da4b6d",
   "metadata": {
    "id": "b9da4b6d"
   },
   "source": [
    "**2** price, bedrooms, bathrooms, sqft_living, sqft_lot, floors, yr_built 등 7개의 변수 간의 상관분석을 수행하고\n",
    "\n",
    "price와의 상관계수의 절대값이 가장 큰 변수와 가장 작은 변수를 차례로 기술하시오.\n",
    "\n",
    "(답안 예시) view, zipcode\n"
   ]
  },
  {
   "cell_type": "code",
   "execution_count": null,
   "id": "6d0ea253",
   "metadata": {
    "colab": {
     "base_uri": "https://localhost:8080/",
     "height": 269
    },
    "id": "6d0ea253",
    "outputId": "ccfa7374-c68c-4659-a02b-53a961c573ae"
   },
   "outputs": [],
   "source": []
  },
  {
   "cell_type": "markdown",
   "id": "763648e9",
   "metadata": {
    "id": "763648e9"
   },
   "source": [
    "**3** id, date, 그리고 zipcode를 제외한 모든 변수를 독립변수로, price를 종속변수로 하여 회귀분석을 수행하시오.\n",
    "\n",
    "통계적 유의성을 갖지 못하는 독립변수를 제거하면 회귀 모형에 남는 변수는 모두 몇 개인가?  (유의 수준: 0.05)\n",
    "\n",
    "이 때 음의 회귀계수를 가지는 변수는 몇 개인가?\n",
    "\n",
    "\n",
    "Python 함수 가이드\n",
    "```\n",
    "from sklearn.linear_model import LinearRegression 또는\n",
    "from statsmodels.formula.api import ols 중 적합한 것을 사용하세요\n",
    "```"
   ]
  },
  {
   "cell_type": "code",
   "execution_count": null,
   "id": "b8c682ff",
   "metadata": {
    "id": "b8c682ff"
   },
   "outputs": [],
   "source": []
  }
 ],
 "metadata": {
  "colab": {
   "provenance": []
  },
  "kernelspec": {
   "display_name": "Python 3 (ipykernel)",
   "language": "python",
   "name": "python3"
  },
  "language_info": {
   "codemirror_mode": {
    "name": "ipython",
    "version": 3
   },
   "file_extension": ".py",
   "mimetype": "text/x-python",
   "name": "python",
   "nbconvert_exporter": "python",
   "pygments_lexer": "ipython3",
   "version": "3.7.4"
  }
 },
 "nbformat": 4,
 "nbformat_minor": 5
}
