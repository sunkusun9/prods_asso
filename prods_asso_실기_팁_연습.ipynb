{
 "cells": [
  {
   "cell_type": "markdown",
   "id": "02c1fca9",
   "metadata": {
    "id": "02c1fca9"
   },
   "source": [
    "**강사: 멀티캠퍼스 강선구 (sunku0316.kang@multicampus.com)**"
   ]
  },
  {
   "cell_type": "code",
   "execution_count": 1,
   "id": "6a081ae2",
   "metadata": {
    "colab": {
     "base_uri": "https://localhost:8080/"
    },
    "id": "6a081ae2",
    "outputId": "0a34218e-7797-40bd-9027-6ba266f29d0a"
   },
   "outputs": [
    {
     "name": "stdout",
     "output_type": "stream",
     "text": [
      "3.10.12 (main, Jun 11 2023, 05:26:28) [GCC 11.4.0]\n",
      "pandas 1.5.3\n",
      "numpy 1.23.5\n",
      "scipy 1.11.2\n",
      "sklearn 1.2.2\n",
      "statsmodels 0.14.0\n"
     ]
    }
   ],
   "source": [
    "import pandas as pd # DataFrame Library\n",
    "import numpy as np # 수치 연선 Library\n",
    "import scipy # 과학수학 Library\n",
    "import sklearn # Scikit-Learn(scipy Machine Learning) Library\n",
    "import statsmodels # 통계모델 Library\n",
    "\n",
    "import sys # 시스템 정보 Library\n",
    "\n",
    "# Python 버젼 및 빌드 환경을 가져 옵니다.\n",
    "print(sys.version)\n",
    "\n",
    "# Library 명과 버젼을 출력합니다.\n",
    "for i in [pd, np, scipy, sklearn, statsmodels]:\n",
    "    print(i.__name__, i.__version__)"
   ]
  },
  {
   "cell_type": "markdown",
   "id": "6b4d1eac",
   "metadata": {
    "id": "6b4d1eac"
   },
   "source": [
    "# 데이터 처리(Data processing)\n",
    "\n",
    "**DataFrame**: 인덱스(행), 컬럼(열)와 값(Value)으로 이루어진 데이터셋\n",
    "\n",
    "  수학에서는 Matrix\n",
    "  \n",
    "  엑셀에서는 Sheet\n",
    "\n",
    "\n",
    "**Series**: 인덱스(행)에 대한 값(Value)으로 이루어진 데이터셋\n",
    "\n",
    "  수학에서는 Vector\n",
    "  \n",
    "  \n",
    "**csv 파일**(Comma-separated values) File: 콤마로 값을 구분하여 DataFrame을 저장한 파일"
   ]
  },
  {
   "cell_type": "code",
   "execution_count": 2,
   "id": "61994168",
   "metadata": {
    "id": "61994168"
   },
   "outputs": [],
   "source": [
    "import pandas as pd # Pandas library를 불러와서 약어로 pd라고 칭합니다. 관습상 pd로 칭합니다."
   ]
  },
  {
   "cell_type": "code",
   "execution_count": null,
   "id": "SkWfXmqEFdnQ",
   "metadata": {
    "id": "SkWfXmqEFdnQ"
   },
   "outputs": [],
   "source": [
    "!wget https://raw.githubusercontent.com/sunkusun9/prods_asso/main/dataset_v4.csv"
   ]
  },
  {
   "cell_type": "code",
   "execution_count": 5,
   "id": "2R4HNWHlFe7x",
   "metadata": {
    "colab": {
     "base_uri": "https://localhost:8080/"
    },
    "id": "2R4HNWHlFe7x",
    "outputId": "4323ecec-36c9-4929-e565-3d1299cd972e"
   },
   "outputs": [
    {
     "name": "stdout",
     "output_type": "stream",
     "text": [
      "name,social_security_number,gender,height,age,blood_type,company,grades,salary,expenditure,car_type\r\n",
      "hkd1,990623-2,F,161.9,22,A,A,A,4100,1975,L\r\n",
      "hkd10,900303-2,F,169.4,31,A,A,B,4720,2970,m\r\n",
      "hkd100,681205-2,F,168.3,55,A,A,B,7280,5905,m\r\n",
      "hkd101,931226-2,F,155.3,28,AB,B,B,4060,2935,m\r\n",
      "hkd102,920123-1,M,188.6,29,O,B,F,4390,4015,SS\r\n",
      "hkd103,910215-2,F,150.2,30,A,B,A,3290,1915,L\r\n",
      "hkd104,990623-1,M,176,22,A,B,A,3750,2375,L\r\n",
      "hkd105,980717-2,F,163.4,23,B,B,B,3080,1330,m\r\n",
      "hkd106,970818-1,M,186.3,24,AB,B,C,3110,2360,m\r\n"
     ]
    }
   ],
   "source": [
    "!head dataset_v4.csv"
   ]
  },
  {
   "cell_type": "code",
   "execution_count": 1,
   "id": "9903a77c",
   "metadata": {
    "colab": {
     "base_uri": "https://localhost:8080/",
     "height": 206
    },
    "id": "9903a77c",
    "outputId": "935b06ce-9ad6-4720-bdf2-d92eaf81ce22"
   },
   "outputs": [],
   "source": [
    "# dataset_v4.csv 파일을 불러옵니다.\n",
    "# 첫 번째 5행을 가져옵니다."
   ]
  },
  {
   "cell_type": "code",
   "execution_count": 2,
   "id": "97ae4ea7",
   "metadata": {
    "colab": {
     "base_uri": "https://localhost:8080/"
    },
    "id": "97ae4ea7",
    "outputId": "2ff28de8-f43b-4b59-fd23-43be41478ec6"
   },
   "outputs": [],
   "source": [
    "# DataFrame의 형태(행의 수, 열의 수)를 보입니다\n"
   ]
  },
  {
   "cell_type": "code",
   "execution_count": 3,
   "id": "6ac09401",
   "metadata": {
    "colab": {
     "base_uri": "https://localhost:8080/"
    },
    "id": "6ac09401",
    "outputId": "ab5b340c-74ae-43da-b788-5223fc08678f"
   },
   "outputs": [],
   "source": [
    "# 데이터프레임의 컬럼 정보를 출력합니다.\n"
   ]
  },
  {
   "cell_type": "markdown",
   "id": "2f762ff1",
   "metadata": {
    "id": "2f762ff1"
   },
   "source": [
    "**object**: 오브젝트 (보통 문자열)\n",
    "\n",
    "**floatXX**: 실수형 (XX 비트수)  - float64 는 64비트 실수\n",
    "\n",
    "**intXX**: 정수형 (XX 비트수) - int64는 64비트 정수\n",
    "\n",
    "**datetimeXX**: 일자형 - datetime64 는 64비트 일자형"
   ]
  },
  {
   "cell_type": "code",
   "execution_count": 4,
   "id": "4daae69f",
   "metadata": {
    "colab": {
     "base_uri": "https://localhost:8080/",
     "height": 300
    },
    "id": "4daae69f",
    "outputId": "c3c7a9f3-4f95-402a-d3f4-b206be21f737"
   },
   "outputs": [],
   "source": [
    "# 기술(descriptive) 통계량\n"
   ]
  },
  {
   "cell_type": "code",
   "execution_count": 5,
   "id": "42e4d973",
   "metadata": {
    "colab": {
     "base_uri": "https://localhost:8080/",
     "height": 294
    },
    "id": "42e4d973",
    "outputId": "eb8788d5-32b0-4cae-c1d0-272ce766fdc0"
   },
   "outputs": [],
   "source": [
    "# mean 평균\n",
    "# median 중앙값\n",
    "# var 분산 (표본분산)\n",
    "# std 표준편차 (표본표준편차)\n",
    "# skew 왜도\n",
    "# kurt 첨도\n"
   ]
  },
  {
   "cell_type": "code",
   "execution_count": 6,
   "id": "2c63b10b",
   "metadata": {
    "colab": {
     "base_uri": "https://localhost:8080/",
     "height": 206
    },
    "id": "2c63b10b",
    "outputId": "7be76f64-0bf3-4672-d256-60fdbbc29621"
   },
   "outputs": [],
   "source": [
    "# pd.DataFrame.select_dtypes: DataFrame에서 dype으로 열을 가져옵니다. df.select_dtype('number') 수치형 컬럼을  가져옵니다.\n",
    "# pd.DataFrame.apply: 행단위로(axis=0) 또는 열단위(axis=1) 연산을 취합니다.\n",
    "# df.apply(lambda x: x.quantile([0, 0.25, 0.5, 0.75, 1.0]))\n",
    "# pd.Sereis.quantile 분위수를 구합니다.\n",
    "\n",
    "# 수치형 컬럼만 가져와서 각 컬럼의 0퍼센틸(최소값), 25퍼센틸(일사분위), 5퍼센틸(이사분위, 중앙값), 75퍼센틸(삼사분위), 100퍼센틸(최대값)\n"
   ]
  },
  {
   "cell_type": "code",
   "execution_count": 9,
   "id": "1551218f",
   "metadata": {
    "colab": {
     "base_uri": "https://localhost:8080/"
    },
    "id": "1551218f",
    "outputId": "e9d3f801-94dd-4400-94ab-2d286b9bf651"
   },
   "outputs": [],
   "source": [
    "# pd.Series.value_counts() 범주값의 출현 빈도를 구합니다.\n"
   ]
  },
  {
   "cell_type": "markdown",
   "id": "84d56e8d",
   "metadata": {
    "id": "84d56e8d"
   },
   "source": [
    "**인덱싱**\n",
    "\n",
    "데이터를 인덱스 기반으로 탐색\n",
    "\n",
    "**iloc**: 포지션 기반 인덱싱 (0-Base, 첫번째 위치가 0)\n",
    "\n",
    "**loc**: 인덱스 기반 인덱싱\n",
    "\n",
    "  ※ Boolean Indexing: 행의 선택여부를 나타내는 Series를 이용한 인덱싱"
   ]
  },
  {
   "cell_type": "code",
   "execution_count": 10,
   "id": "b5cc7c19",
   "metadata": {
    "colab": {
     "base_uri": "https://localhost:8080/",
     "height": 455
    },
    "id": "b5cc7c19",
    "outputId": "5a95f334-2a32-4b5d-b37e-f37036cbcee5"
   },
   "outputs": [],
   "source": [
    "# 위 결과를 보아 name이 중복해서 등장하는 것은 없습니다,.\n",
    "# 'name'을 인덱스로 합니다.이것을 df2라고 합니다.\n"
   ]
  },
  {
   "cell_type": "markdown",
   "id": "399d6a5e",
   "metadata": {
    "id": "399d6a5e"
   },
   "source": [
    "**df2**로 작업을 합니다."
   ]
  },
  {
   "cell_type": "code",
   "execution_count": 11,
   "id": "6d030ced",
   "metadata": {
    "colab": {
     "base_uri": "https://localhost:8080/"
    },
    "id": "6d030ced",
    "outputId": "ae3ec5ae-c0d7-4595-91c0-c3ea6a79dca5"
   },
   "outputs": [],
   "source": [
    "# 첫번째 행을 들고 옵니다.\n"
   ]
  },
  {
   "cell_type": "code",
   "execution_count": 12,
   "id": "6d092dee",
   "metadata": {
    "colab": {
     "base_uri": "https://localhost:8080/"
    },
    "id": "6d092dee",
    "outputId": "f645345a-20ff-4265-8ea2-2c74685b03eb"
   },
   "outputs": [],
   "source": [
    "# 마지막 행을 들고 옵니다.\n"
   ]
  },
  {
   "cell_type": "code",
   "execution_count": 13,
   "id": "d1cf0fe9",
   "metadata": {
    "colab": {
     "base_uri": "https://localhost:8080/",
     "height": 143
    },
    "id": "d1cf0fe9",
    "outputId": "cec7e462-322d-4ff4-9c38-9986d7694abd"
   },
   "outputs": [],
   "source": [
    "# 첫번째 행과 3번째행을 들고 온다\n",
    "\n"
   ]
  },
  {
   "cell_type": "code",
   "execution_count": 14,
   "id": "3d03c04f",
   "metadata": {
    "colab": {
     "base_uri": "https://localhost:8080/",
     "height": 143
    },
    "id": "3d03c04f",
    "outputId": "54c4214c-055a-47be-98ad-2c2bbd12878c"
   },
   "outputs": [],
   "source": [
    "# 인덱스(name)이 hkd102, hkd98 를 가져옵니다.\n",
    "\n"
   ]
  },
  {
   "cell_type": "markdown",
   "id": "16e127db",
   "metadata": {
    "id": "16e127db"
   },
   "source": [
    "**Slicing**: 구간 단위로 인덱싱을 합니다.\n",
    "\n",
    "**iloc**\n",
    "    \n",
    "(첫번째 위치):(마지막 위치: 첫번째 위치에서 마지막 위치 이전까지(마지막 위치 미포함) 가져옵니다.\n",
    "\n",
    "**loc**\n",
    "\n",
    "(첫번째 인덱스):(마지막 인덱스): 첫번째 인덱스 에서 마지막 인덱스 이전까지(마지막 인덱스 포함) 가져옵니다."
   ]
  },
  {
   "cell_type": "code",
   "execution_count": 15,
   "id": "b59fae6f",
   "metadata": {
    "colab": {
     "base_uri": "https://localhost:8080/",
     "height": 175
    },
    "id": "b59fae6f",
    "outputId": "310680f0-928c-4d86-aeb3-1a957e29a849"
   },
   "outputs": [],
   "source": [
    "# 위치가 0에서 2까지(2 포함) 가져옵니다.\n",
    "\n"
   ]
  },
  {
   "cell_type": "code",
   "execution_count": 16,
   "id": "030ed3cc",
   "metadata": {
    "colab": {
     "base_uri": "https://localhost:8080/",
     "height": 455
    },
    "id": "030ed3cc",
    "outputId": "e11ba781-f2f4-4287-8361-47aeddb5383d"
   },
   "outputs": [],
   "source": [
    "# 위치가 1에서 마지막전까지 (마지막 미포험)까지 가져옵니다.\n"
   ]
  },
  {
   "cell_type": "code",
   "execution_count": 17,
   "id": "2388f8d9",
   "metadata": {
    "colab": {
     "base_uri": "https://localhost:8080/",
     "height": 455
    },
    "id": "2388f8d9",
    "outputId": "344d69ae-5238-4125-e2ab-5ecf8ae23b7e"
   },
   "outputs": [],
   "source": [
    "# 위치가 1에서 마지막까지 (마지막 포험)까지 가져옵니다.\n"
   ]
  },
  {
   "cell_type": "code",
   "execution_count": 18,
   "id": "68aed132",
   "metadata": {
    "colab": {
     "base_uri": "https://localhost:8080/",
     "height": 455
    },
    "id": "68aed132",
    "outputId": "b7c572ae-1fbd-4dd3-f0ac-db5c1311d1c2"
   },
   "outputs": [],
   "source": [
    "# 이름이 인덱스 순으로 hkd1에서 hkd99까지 들고 옵니다.\n",
    "\n"
   ]
  },
  {
   "cell_type": "markdown",
   "id": "f1b7b16d",
   "metadata": {
    "id": "f1b7b16d"
   },
   "source": [
    "**컬럼 인덱싱**"
   ]
  },
  {
   "cell_type": "code",
   "execution_count": 19,
   "id": "1bc502d4",
   "metadata": {
    "colab": {
     "base_uri": "https://localhost:8080/",
     "height": 455
    },
    "id": "1bc502d4",
    "outputId": "c806c67d-54be-45cc-8100-7083702d6dbb"
   },
   "outputs": [],
   "source": [
    "# 첫번쩨 컬럼과 세번째 컬럼(포함)까지 옵니다.\n"
   ]
  },
  {
   "cell_type": "code",
   "execution_count": 20,
   "id": "c593ec65",
   "metadata": {
    "colab": {
     "base_uri": "https://localhost:8080/",
     "height": 206
    },
    "id": "c593ec65",
    "outputId": "7872eb3f-cbcd-4656-e049-31621bda1f50"
   },
   "outputs": [],
   "source": [
    "# 행은 hkd1에서 hkd101까지(포함) gender에서 height(포함)까지 들고 옵니다.\n",
    "\n"
   ]
  },
  {
   "cell_type": "code",
   "execution_count": 21,
   "id": "30caed85",
   "metadata": {
    "colab": {
     "base_uri": "https://localhost:8080/"
    },
    "id": "30caed85",
    "outputId": "9ac07597-e1d7-4a9d-abc8-7528def5dad8"
   },
   "outputs": [],
   "source": [
    "# Boolean Indexing 혈액형이 'A'인 행만 들고 옵니다.\n",
    "\n",
    "#  blood_type 이 'A'인지를 나타내는 Boolean Index(Series)\n"
   ]
  },
  {
   "cell_type": "code",
   "execution_count": 22,
   "id": "f1892aca",
   "metadata": {
    "colab": {
     "base_uri": "https://localhost:8080/",
     "height": 455
    },
    "id": "f1892aca",
    "outputId": "2b9b12e5-0057-48d6-debd-89d5f592c67d"
   },
   "outputs": [],
   "source": [
    "# Boolean Indexing\n"
   ]
  },
  {
   "cell_type": "code",
   "execution_count": 23,
   "id": "ed466339",
   "metadata": {
    "colab": {
     "base_uri": "https://localhost:8080/",
     "height": 237
    },
    "id": "ed466339",
    "outputId": "7f3153cc-6117-4d7b-864d-bff454697298"
   },
   "outputs": [],
   "source": [
    "# 혈액형이 A형이면서 나이가 25세 이하\n"
   ]
  },
  {
   "cell_type": "markdown",
   "id": "a94a9941",
   "metadata": {
    "id": "a94a9941"
   },
   "source": [
    "**결측치 처리**"
   ]
  },
  {
   "cell_type": "code",
   "execution_count": 67,
   "id": "38bcce40",
   "metadata": {
    "colab": {
     "base_uri": "https://localhost:8080/"
    },
    "id": "38bcce40",
    "outputId": "5df297d9-6c92-425f-a38f-4c44d384f381"
   },
   "outputs": [
    {
     "data": {
      "text/plain": [
       "social_security_number     0\n",
       "gender                    12\n",
       "height                     0\n",
       "age                       21\n",
       "blood_type                 0\n",
       "company                    0\n",
       "grades                    79\n",
       "salary                     0\n",
       "expenditure                0\n",
       "car_type                   0\n",
       "dtype: int64"
      ]
     },
     "execution_count": 67,
     "metadata": {},
     "output_type": "execute_result"
    }
   ],
   "source": [
    "# 결측치를 만들어 봅니다.\n",
    "\n",
    "df2.loc[df2['height'].between(160, 161) & (df2['gender'] == 'F'), 'gender'] = np.nan\n",
    "df2.loc[df2['height'].between(180, 181) & (df2['gender'] == 'M'), 'gender'] = np.nan\n",
    "\n",
    "np.random.seed(123)\n",
    "df2.loc[np.random.rand(len(df2)) > 0.9, 'age'] = np.nan\n",
    "\n",
    "df2.loc[df2['grades'] == 'A', 'grades'] = np.nan\n",
    "\n",
    "df2.isna().sum()"
   ]
  },
  {
   "cell_type": "code",
   "execution_count": 68,
   "id": "D2ZHlz_0KsQg",
   "metadata": {
    "colab": {
     "base_uri": "https://localhost:8080/"
    },
    "id": "D2ZHlz_0KsQg",
    "outputId": "880d20f5-ce58-421c-b876-d7677f2c0319"
   },
   "outputs": [
    {
     "name": "stdout",
     "output_type": "stream",
     "text": [
      "<class 'pandas.core.frame.DataFrame'>\n",
      "Index: 250 entries, hkd1 to hkd99\n",
      "Data columns (total 10 columns):\n",
      " #   Column                  Non-Null Count  Dtype  \n",
      "---  ------                  --------------  -----  \n",
      " 0   social_security_number  250 non-null    object \n",
      " 1   gender                  238 non-null    object \n",
      " 2   height                  250 non-null    float64\n",
      " 3   age                     229 non-null    float64\n",
      " 4   blood_type              250 non-null    object \n",
      " 5   company                 250 non-null    object \n",
      " 6   grades                  171 non-null    object \n",
      " 7   salary                  250 non-null    int64  \n",
      " 8   expenditure             250 non-null    int64  \n",
      " 9   car_type                250 non-null    object \n",
      "dtypes: float64(2), int64(2), object(6)\n",
      "memory usage: 29.6+ KB\n"
     ]
    }
   ],
   "source": [
    "df2.info()"
   ]
  },
  {
   "cell_type": "code",
   "execution_count": 24,
   "id": "z_3GcATlKxvL",
   "metadata": {
    "colab": {
     "base_uri": "https://localhost:8080/",
     "height": 739
    },
    "id": "z_3GcATlKxvL",
    "outputId": "751d779c-f5a7-49ff-f52b-42f43d93949d"
   },
   "outputs": [],
   "source": [
    "# age의 결측치를 뽑아봅니다.\n"
   ]
  },
  {
   "cell_type": "code",
   "execution_count": 25,
   "id": "z9PCVLAzK94K",
   "metadata": {
    "colab": {
     "base_uri": "https://localhost:8080/",
     "height": 455
    },
    "id": "z9PCVLAzK94K",
    "outputId": "674cd17a-a98c-48fe-b606-d8d5190dace0"
   },
   "outputs": [],
   "source": [
    "# 변수중 결측이 발생한 행을 뽑아봅니다.\n"
   ]
  },
  {
   "cell_type": "code",
   "execution_count": 26,
   "id": "a4891b7d",
   "metadata": {
    "id": "a4891b7d"
   },
   "outputs": [],
   "source": [
    "# gender가 결측일 때, height가 170이하이면 'F', 아니면 'M'으로 결측치를 처리한다.\n",
    "# ※ 주의 loc[][]로 하면 예상치 못한 결과를 얻을 수있다는 Warning이 발생한다\n",
    "# ex) df2.loc[df2['gender'].isna() & (df2['height'] <= 170)]['gender'] = 'F'\n",
    "\n"
   ]
  },
  {
   "cell_type": "code",
   "execution_count": 74,
   "id": "5458c1a7",
   "metadata": {
    "id": "5458c1a7"
   },
   "outputs": [],
   "source": [
    "# 나이의 결측치는 평균으로 대체한다.\n",
    "\n"
   ]
  },
  {
   "cell_type": "code",
   "execution_count": 75,
   "id": "252c8bd6",
   "metadata": {
    "id": "252c8bd6"
   },
   "outputs": [],
   "source": [
    "# grades의 결측은 A로 대체한다.\n",
    "\n"
   ]
  },
  {
   "cell_type": "markdown",
   "id": "0dea96a8",
   "metadata": {
    "id": "0dea96a8"
   },
   "source": [
    "**그룹연산**\n",
    "\n",
    "데이터를 주어진 기준에 따라 묶어서 연산\n",
    "\n",
    "Ex) gender 별로 age 평균, blood_type 별 height 평균\n",
    "\n",
    "**df**로 작업합니다."
   ]
  },
  {
   "cell_type": "code",
   "execution_count": 27,
   "id": "997e1080",
   "metadata": {
    "colab": {
     "base_uri": "https://localhost:8080/"
    },
    "id": "997e1080",
    "outputId": "02d9438f-76d1-4fdc-ada4-f4040849d173"
   },
   "outputs": [],
   "source": [
    "# gender별 age의  평균을 구하세요\n",
    "\n"
   ]
  },
  {
   "cell_type": "code",
   "execution_count": 28,
   "id": "d5d247ab",
   "metadata": {
    "colab": {
     "base_uri": "https://localhost:8080/",
     "height": 143
    },
    "id": "d5d247ab",
    "outputId": "22705717-b2b2-414d-c8fd-4a1999ab8e5c"
   },
   "outputs": [],
   "source": [
    "# gender 별 age의 평균과 표본표준편차를 구하세요\n"
   ]
  },
  {
   "cell_type": "code",
   "execution_count": 29,
   "id": "94bf4faf",
   "metadata": {
    "colab": {
     "base_uri": "https://localhost:8080/"
    },
    "id": "94bf4faf",
    "outputId": "be6e2e48-37b3-4579-9366-57981f8cdcf1"
   },
   "outputs": [],
   "source": [
    "# blood_type, gender별 빈도수\n"
   ]
  },
  {
   "cell_type": "markdown",
   "id": "f25356b0",
   "metadata": {
    "id": "f25356b0"
   },
   "source": [
    "**교차 테이블** : pd.crosstab\n",
    "\n",
    "\n",
    "두 개이상의 기준을\n",
    "\n",
    "행(인덱스)과 열(컬럼)로 교차하여 묶어 결과를 뽑는다."
   ]
  },
  {
   "cell_type": "code",
   "execution_count": 30,
   "id": "b6505ad4",
   "metadata": {
    "id": "b6505ad4",
    "outputId": "61f8ff54-2605-4a2c-f547-fc75b1ddf16e"
   },
   "outputs": [],
   "source": [
    "# 행은 blood_type, 열에는 gender로 한 빈도수 데이터프레임을 구하세요.\n"
   ]
  },
  {
   "cell_type": "code",
   "execution_count": 31,
   "id": "2b39afed",
   "metadata": {
    "colab": {
     "base_uri": "https://localhost:8080/",
     "height": 206
    },
    "id": "2b39afed",
    "outputId": "b154812b-6afd-43af-b77f-271069bb110f"
   },
   "outputs": [],
   "source": [
    "# 행은 blood_type, 열에는 gender로 하여 값은 키의 평균인  데이터프레임을 구하세요.\n"
   ]
  },
  {
   "cell_type": "code",
   "execution_count": 32,
   "id": "bbf814b1",
   "metadata": {
    "id": "bbf814b1",
    "outputId": "14e80565-8afd-4c95-ce1b-79627611310f"
   },
   "outputs": [],
   "source": [
    "# 위와 같은 명령 빈도수 대신 평균\n"
   ]
  },
  {
   "cell_type": "markdown",
   "id": "e54b8710",
   "metadata": {
    "id": "e54b8710"
   },
   "source": [
    "# 통계분석"
   ]
  },
  {
   "cell_type": "code",
   "execution_count": 33,
   "id": "464bd165",
   "metadata": {
    "colab": {
     "base_uri": "https://localhost:8080/"
    },
    "id": "464bd165",
    "outputId": "32bce9d4-4d9c-4094-8197-5c318fdff4dd"
   },
   "outputs": [],
   "source": [
    "# 상관도 분석\n",
    "# 두 연속형 변수간의 선형적인 연관성을 나타낸다.\n",
    "\n",
    "\n",
    "# 피어슨 상관도 분석\n",
    "\n",
    "# height와 age의 상관도를 구하세요\n"
   ]
  },
  {
   "cell_type": "code",
   "execution_count": 90,
   "id": "73f67cbd",
   "metadata": {
    "colab": {
     "base_uri": "https://localhost:8080/",
     "height": 448
    },
    "id": "73f67cbd",
    "outputId": "ed15bb0e-000d-4417-e7b3-91fd59e56ddc"
   },
   "outputs": [
    {
     "data": {
      "text/plain": [
       "<matplotlib.collections.PathCollection at 0x7cef1243a200>"
      ]
     },
     "execution_count": 90,
     "metadata": {},
     "output_type": "execute_result"
    },
    {
     "data": {
      "image/png": "[encoded data removed]",
      "text/plain": [
       "<Figure size 640x480 with 1 Axes>"
      ]
     },
     "metadata": {},
     "output_type": "display_data"
    }
   ],
   "source": [
    "import matplotlib.pyplot as plt\n",
    "\n",
    "plt.scatter(df['age'], df['height'])"
   ]
  },
  {
   "cell_type": "code",
   "execution_count": 34,
   "id": "1a523d2f",
   "metadata": {
    "colab": {
     "base_uri": "https://localhost:8080/",
     "height": 231
    },
    "id": "1a523d2f",
    "outputId": "1c4bf0d1-56ac-4846-b72a-293d6a7f6383"
   },
   "outputs": [],
   "source": [
    "# pd.DataFrame.corr 연속형 변수간의 상관도 행렬을 구한다.\n"
   ]
  },
  {
   "cell_type": "code",
   "execution_count": 35,
   "id": "6af86dec",
   "metadata": {
    "colab": {
     "base_uri": "https://localhost:8080/"
    },
    "id": "6af86dec",
    "outputId": "d6118d27-c76c-4a09-8ec4-4a7f8827a978"
   },
   "outputs": [],
   "source": [
    "# age와 상관도의 절대값이 가장 높은 연속형 변수(자기 자신은 제외)\n",
    "\n",
    "# 1. age 가져온다.\n"
   ]
  },
  {
   "cell_type": "code",
   "execution_count": 36,
   "id": "bbf89f29",
   "metadata": {
    "colab": {
     "base_uri": "https://localhost:8080/"
    },
    "id": "bbf89f29",
    "outputId": "12de5164-caec-42f2-de69-58a29bd1cd88"
   },
   "outputs": [],
   "source": [
    "# age는 제외\n"
   ]
  },
  {
   "cell_type": "code",
   "execution_count": 37,
   "id": "eea965df",
   "metadata": {
    "colab": {
     "base_uri": "https://localhost:8080/",
     "height": 35
    },
    "id": "eea965df",
    "outputId": "f535feea-9a04-4e05-f878-64b50795f168"
   },
   "outputs": [],
   "source": [
    "# 위 값중에서 가장 큰 값의 index\n"
   ]
  },
  {
   "cell_type": "code",
   "execution_count": 38,
   "id": "41fea3b9",
   "metadata": {
    "colab": {
     "base_uri": "https://localhost:8080/"
    },
    "id": "41fea3b9",
    "outputId": "028f5fec-96dc-4d9e-f8e4-dc7f6166894e"
   },
   "outputs": [],
   "source": [
    "# age와 상관도가 높은 연속형 변수 두 개(age 제외)\n"
   ]
  },
  {
   "cell_type": "code",
   "execution_count": 39,
   "id": "30300b5c",
   "metadata": {
    "id": "30300b5c"
   },
   "outputs": [],
   "source": [
    "# t 검정: 두 개의 범주\n",
    "\n",
    "# 모분산을 모를 때,범주수가 2개인 범주형 변수와 연속형 변수의 독립성 검정\n",
    "# 가정: 각각의 범주의 연속형 변수는 정규분포를 따른다.\n",
    "# 두 개의 집단이 등분산일 때와 등분산이 아닐 때를  구분해야 한다.\n"
   ]
  },
  {
   "cell_type": "code",
   "execution_count": 40,
   "id": "b164cdae",
   "metadata": {
    "id": "b164cdae"
   },
   "outputs": [],
   "source": [
    "# t 검정: 동일 샘플의 조치(treatment 이전과 이후가 독립인지)\n"
   ]
  },
  {
   "cell_type": "code",
   "execution_count": 41,
   "id": "9b5c31a1",
   "metadata": {
    "id": "9b5c31a1"
   },
   "outputs": [],
   "source": [
    "# t 검정 one-sample\n",
    "\n",
    "# 단일 표본의의 모평균에 대한 검정\n"
   ]
  },
  {
   "cell_type": "code",
   "execution_count": 42,
   "id": "fdda7091",
   "metadata": {
    "colab": {
     "base_uri": "https://localhost:8080/"
    },
    "id": "fdda7091",
    "outputId": "5e0b32f4-8eb8-4f02-8083-17c865b621e0"
   },
   "outputs": [],
   "source": [
    "# 다음 검정을 하고, pvalue를 구하세요.\n",
    "# H0: gender가 F일 때 salary와 M일 때 salary가 같다\n",
    "# H1: gender가 F일 때 salary와 M일 때 salary는 같지 않다.\n",
    "# 두 집단의 분산은 같다고 가정합니다.\n"
   ]
  },
  {
   "cell_type": "code",
   "execution_count": 43,
   "id": "495bddca",
   "metadata": {
    "colab": {
     "base_uri": "https://localhost:8080/"
    },
    "id": "495bddca",
    "outputId": "0da0bbfe-a161-48f7-ddb1-4618a6d5ed22"
   },
   "outputs": [],
   "source": [
    "#H0: gender=='M'일 때, height의 평균은 180이다.\n",
    "#H1: gender=='M'일 때, height의 평균은 180이 아니다.\n",
    "from scipy.stats import ttest_1samp\n"
   ]
  },
  {
   "cell_type": "code",
   "execution_count": 44,
   "id": "7f6319ff",
   "metadata": {
    "colab": {
     "base_uri": "https://localhost:8080/"
    },
    "id": "7f6319ff",
    "outputId": "7d502f9d-5233-42b6-e8c7-3a6a39e99f8e"
   },
   "outputs": [],
   "source": [
    "from  scipy.stats import f_oneway\n",
    "\n",
    "# f_oneway와 비교"
   ]
  },
  {
   "cell_type": "code",
   "execution_count": 45,
   "id": "ccc4b23b",
   "metadata": {
    "colab": {
     "base_uri": "https://localhost:8080/"
    },
    "id": "ccc4b23b",
    "outputId": "834e08fa-6cd3-4210-d070-093ff1e97e21"
   },
   "outputs": [],
   "source": [
    "# blood_type에 따라 salary의 평균이 동일 여부를 검정해 보세요.\n"
   ]
  },
  {
   "cell_type": "code",
   "execution_count": 107,
   "id": "db64a26c",
   "metadata": {
    "colab": {
     "base_uri": "https://localhost:8080/"
    },
    "id": "db64a26c",
    "outputId": "bf4c4b2d-8708-4b21-9a95-ad5ebcb5be47"
   },
   "outputs": [
    {
     "data": {
      "text/plain": [
       "F_onewayResult(statistic=0.11567771582991603, pvalue=0.9508624032244534)"
      ]
     },
     "execution_count": 107,
     "metadata": {},
     "output_type": "execute_result"
    }
   ],
   "source": [
    "# python unpacking 연산자를 이용해 위 내용을 전달\n",
    "f_oneway(\n",
    "    *df.groupby('blood_type')['salary'].agg(list).tolist()\n",
    ")"
   ]
  },
  {
   "cell_type": "code",
   "execution_count": 46,
   "id": "9ec441bf",
   "metadata": {
    "colab": {
     "base_uri": "https://localhost:8080/",
     "height": 206
    },
    "id": "9ec441bf",
    "outputId": "5a21f42c-301a-45ed-8b67-62197653520d"
   },
   "outputs": [],
   "source": [
    "# 카이제곱 검정\n",
    "\n",
    "# blood_type과 gender간의 독립성을 검정하세요.\n",
    "from scipy.stats import chi2_contingency\n",
    "\n",
    "# 빈도수 테이블을 구합니다."
   ]
  },
  {
   "cell_type": "code",
   "execution_count": 47,
   "id": "b78d5f51",
   "metadata": {
    "id": "b78d5f51",
    "outputId": "906db861-c417-470f-aba0-c349ba30f16d"
   },
   "outputs": [],
   "source": [
    "# 빈도수 테이블을 chi2_contingency에 전달합니다.\n"
   ]
  },
  {
   "cell_type": "markdown",
   "id": "d622ba1a",
   "metadata": {
    "id": "d622ba1a"
   },
   "source": [
    "**statsmodels를 통한 선형회귀분석**"
   ]
  },
  {
   "cell_type": "code",
   "execution_count": 109,
   "id": "451916d6",
   "metadata": {
    "id": "451916d6"
   },
   "outputs": [],
   "source": [
    "from statsmodels.formula.api import ols"
   ]
  },
  {
   "cell_type": "code",
   "execution_count": 48,
   "id": "a1412d42",
   "metadata": {
    "colab": {
     "base_uri": "https://localhost:8080/",
     "height": 541
    },
    "id": "a1412d42",
    "outputId": "01555f52-1093-42d6-f1e6-e90a455f105b"
   },
   "outputs": [],
   "source": [
    "# 종속변수 : expenditure\n",
    "# 독립변수 : 연속형 - height, age, salary, 범주형 - gender\n",
    "# ~을 기준으로 좌항에는 종속변수, 우항에는 독립변수 - 범주형일 경우: C(범주명)\n"
   ]
  },
  {
   "cell_type": "code",
   "execution_count": 111,
   "id": "52d17e81",
   "metadata": {
    "colab": {
     "base_uri": "https://localhost:8080/",
     "height": 423
    },
    "id": "52d17e81",
    "outputId": "b2d15f53-1871-4f0b-d65b-1e60ef96b39b"
   },
   "outputs": [
    {
     "data": {
      "text/html": [
       "\n",
       "  <div id=\"df-5a22d5fb-d634-4ee2-82fc-6295cc479dd2\" class=\"colab-df-container\">\n",
       "    <div>\n",
       "<style scoped>\n",
       "    .dataframe tbody tr th:only-of-type {\n",
       "        vertical-align: middle;\n",
       "    }\n",
       "\n",
       "    .dataframe tbody tr th {\n",
       "        vertical-align: top;\n",
       "    }\n",
       "\n",
       "    .dataframe thead th {\n",
       "        text-align: right;\n",
       "    }\n",
       "</style>\n",
       "<table border=\"1\" class=\"dataframe\">\n",
       "  <thead>\n",
       "    <tr style=\"text-align: right;\">\n",
       "      <th></th>\n",
       "      <th>height</th>\n",
       "      <th>age</th>\n",
       "      <th>salary</th>\n",
       "      <th>gender</th>\n",
       "      <th>expenditure</th>\n",
       "    </tr>\n",
       "  </thead>\n",
       "  <tbody>\n",
       "    <tr>\n",
       "      <th>0</th>\n",
       "      <td>161.9</td>\n",
       "      <td>22</td>\n",
       "      <td>4100</td>\n",
       "      <td>F</td>\n",
       "      <td>1975</td>\n",
       "    </tr>\n",
       "    <tr>\n",
       "      <th>1</th>\n",
       "      <td>169.4</td>\n",
       "      <td>31</td>\n",
       "      <td>4720</td>\n",
       "      <td>F</td>\n",
       "      <td>2970</td>\n",
       "    </tr>\n",
       "    <tr>\n",
       "      <th>2</th>\n",
       "      <td>168.3</td>\n",
       "      <td>55</td>\n",
       "      <td>7280</td>\n",
       "      <td>F</td>\n",
       "      <td>5905</td>\n",
       "    </tr>\n",
       "    <tr>\n",
       "      <th>3</th>\n",
       "      <td>155.3</td>\n",
       "      <td>28</td>\n",
       "      <td>4060</td>\n",
       "      <td>F</td>\n",
       "      <td>2935</td>\n",
       "    </tr>\n",
       "    <tr>\n",
       "      <th>4</th>\n",
       "      <td>188.6</td>\n",
       "      <td>29</td>\n",
       "      <td>4390</td>\n",
       "      <td>M</td>\n",
       "      <td>4015</td>\n",
       "    </tr>\n",
       "    <tr>\n",
       "      <th>...</th>\n",
       "      <td>...</td>\n",
       "      <td>...</td>\n",
       "      <td>...</td>\n",
       "      <td>...</td>\n",
       "      <td>...</td>\n",
       "    </tr>\n",
       "    <tr>\n",
       "      <th>245</th>\n",
       "      <td>157.8</td>\n",
       "      <td>50</td>\n",
       "      <td>6990</td>\n",
       "      <td>F</td>\n",
       "      <td>4865</td>\n",
       "    </tr>\n",
       "    <tr>\n",
       "      <th>246</th>\n",
       "      <td>150.4</td>\n",
       "      <td>51</td>\n",
       "      <td>7110</td>\n",
       "      <td>F</td>\n",
       "      <td>4985</td>\n",
       "    </tr>\n",
       "    <tr>\n",
       "      <th>247</th>\n",
       "      <td>172.4</td>\n",
       "      <td>52</td>\n",
       "      <td>8000</td>\n",
       "      <td>M</td>\n",
       "      <td>6625</td>\n",
       "    </tr>\n",
       "    <tr>\n",
       "      <th>248</th>\n",
       "      <td>166.7</td>\n",
       "      <td>53</td>\n",
       "      <td>8760</td>\n",
       "      <td>M</td>\n",
       "      <td>7385</td>\n",
       "    </tr>\n",
       "    <tr>\n",
       "      <th>249</th>\n",
       "      <td>152.6</td>\n",
       "      <td>54</td>\n",
       "      <td>7470</td>\n",
       "      <td>F</td>\n",
       "      <td>6095</td>\n",
       "    </tr>\n",
       "  </tbody>\n",
       "</table>\n",
       "<p>250 rows × 5 columns</p>\n",
       "</div>\n",
       "    <div class=\"colab-df-buttons\">\n",
       "\n",
       "  <div class=\"colab-df-container\">\n",
       "    <button class=\"colab-df-convert\" onclick=\"convertToInteractive('df-5a22d5fb-d634-4ee2-82fc-6295cc479dd2')\"\n",
       "            title=\"Convert this dataframe to an interactive table.\"\n",
       "            style=\"display:none;\">\n",
       "\n",
       "  <svg xmlns=\"http://www.w3.org/2000/svg\" height=\"24px\" viewBox=\"0 -960 960 960\">\n",
       "    <path d=\"M120-120v-720h720v720H120Zm60-500h600v-160H180v160Zm220 220h160v-160H400v160Zm0 220h160v-160H400v160ZM180-400h160v-160H180v160Zm440 0h160v-160H620v160ZM180-180h160v-160H180v160Zm440 0h160v-160H620v160Z\"/>\n",
       "  </svg>\n",
       "    </button>\n",
       "\n",
       "  <style>\n",
       "    .colab-df-container {\n",
       "      display:flex;\n",
       "      gap: 12px;\n",
       "    }\n",
       "\n",
       "    .colab-df-convert {\n",
       "      background-color: #E8F0FE;\n",
       "      border: none;\n",
       "      border-radius: 50%;\n",
       "      cursor: pointer;\n",
       "      display: none;\n",
       "      fill: #1967D2;\n",
       "      height: 32px;\n",
       "      padding: 0 0 0 0;\n",
       "      width: 32px;\n",
       "    }\n",
       "\n",
       "    .colab-df-convert:hover {\n",
       "      background-color: #E2EBFA;\n",
       "      box-shadow: 0px 1px 2px rgba(60, 64, 67, 0.3), 0px 1px 3px 1px rgba(60, 64, 67, 0.15);\n",
       "      fill: #174EA6;\n",
       "    }\n",
       "\n",
       "    .colab-df-buttons div {\n",
       "      margin-bottom: 4px;\n",
       "    }\n",
       "\n",
       "    [theme=dark] .colab-df-convert {\n",
       "      background-color: #3B4455;\n",
       "      fill: #D2E3FC;\n",
       "    }\n",
       "\n",
       "    [theme=dark] .colab-df-convert:hover {\n",
       "      background-color: #434B5C;\n",
       "      box-shadow: 0px 1px 3px 1px rgba(0, 0, 0, 0.15);\n",
       "      filter: drop-shadow(0px 1px 2px rgba(0, 0, 0, 0.3));\n",
       "      fill: #FFFFFF;\n",
       "    }\n",
       "  </style>\n",
       "\n",
       "    <script>\n",
       "      const buttonEl =\n",
       "        document.querySelector('#df-5a22d5fb-d634-4ee2-82fc-6295cc479dd2 button.colab-df-convert');\n",
       "      buttonEl.style.display =\n",
       "        google.colab.kernel.accessAllowed ? 'block' : 'none';\n",
       "\n",
       "      async function convertToInteractive(key) {\n",
       "        const element = document.querySelector('#df-5a22d5fb-d634-4ee2-82fc-6295cc479dd2');\n",
       "        const dataTable =\n",
       "          await google.colab.kernel.invokeFunction('convertToInteractive',\n",
       "                                                    [key], {});\n",
       "        if (!dataTable) return;\n",
       "\n",
       "        const docLinkHtml = 'Like what you see? Visit the ' +\n",
       "          '<a target=\"_blank\" href=https://colab.research.google.com/notebooks/data_table.ipynb>data table notebook</a>'\n",
       "          + ' to learn more about interactive tables.';\n",
       "        element.innerHTML = '';\n",
       "        dataTable['output_type'] = 'display_data';\n",
       "        await google.colab.output.renderOutput(dataTable, element);\n",
       "        const docLink = document.createElement('div');\n",
       "        docLink.innerHTML = docLinkHtml;\n",
       "        element.appendChild(docLink);\n",
       "      }\n",
       "    </script>\n",
       "  </div>\n",
       "\n",
       "\n",
       "<div id=\"df-a513dfb0-9c77-4419-ab36-94a70291c84d\">\n",
       "  <button class=\"colab-df-quickchart\" onclick=\"quickchart('df-a513dfb0-9c77-4419-ab36-94a70291c84d')\"\n",
       "            title=\"Suggest charts.\"\n",
       "            style=\"display:none;\">\n",
       "\n",
       "<svg xmlns=\"http://www.w3.org/2000/svg\" height=\"24px\"viewBox=\"0 0 24 24\"\n",
       "     width=\"24px\">\n",
       "    <g>\n",
       "        <path d=\"M19 3H5c-1.1 0-2 .9-2 2v14c0 1.1.9 2 2 2h14c1.1 0 2-.9 2-2V5c0-1.1-.9-2-2-2zM9 17H7v-7h2v7zm4 0h-2V7h2v10zm4 0h-2v-4h2v4z\"/>\n",
       "    </g>\n",
       "</svg>\n",
       "  </button>\n",
       "\n",
       "<style>\n",
       "  .colab-df-quickchart {\n",
       "      --bg-color: #E8F0FE;\n",
       "      --fill-color: #1967D2;\n",
       "      --hover-bg-color: #E2EBFA;\n",
       "      --hover-fill-color: #174EA6;\n",
       "      --disabled-fill-color: #AAA;\n",
       "      --disabled-bg-color: #DDD;\n",
       "  }\n",
       "\n",
       "  [theme=dark] .colab-df-quickchart {\n",
       "      --bg-color: #3B4455;\n",
       "      --fill-color: #D2E3FC;\n",
       "      --hover-bg-color: #434B5C;\n",
       "      --hover-fill-color: #FFFFFF;\n",
       "      --disabled-bg-color: #3B4455;\n",
       "      --disabled-fill-color: #666;\n",
       "  }\n",
       "\n",
       "  .colab-df-quickchart {\n",
       "    background-color: var(--bg-color);\n",
       "    border: none;\n",
       "    border-radius: 50%;\n",
       "    cursor: pointer;\n",
       "    display: none;\n",
       "    fill: var(--fill-color);\n",
       "    height: 32px;\n",
       "    padding: 0;\n",
       "    width: 32px;\n",
       "  }\n",
       "\n",
       "  .colab-df-quickchart:hover {\n",
       "    background-color: var(--hover-bg-color);\n",
       "    box-shadow: 0 1px 2px rgba(60, 64, 67, 0.3), 0 1px 3px 1px rgba(60, 64, 67, 0.15);\n",
       "    fill: var(--button-hover-fill-color);\n",
       "  }\n",
       "\n",
       "  .colab-df-quickchart-complete:disabled,\n",
       "  .colab-df-quickchart-complete:disabled:hover {\n",
       "    background-color: var(--disabled-bg-color);\n",
       "    fill: var(--disabled-fill-color);\n",
       "    box-shadow: none;\n",
       "  }\n",
       "\n",
       "  .colab-df-spinner {\n",
       "    border: 2px solid var(--fill-color);\n",
       "    border-color: transparent;\n",
       "    border-bottom-color: var(--fill-color);\n",
       "    animation:\n",
       "      spin 1s steps(1) infinite;\n",
       "  }\n",
       "\n",
       "  @keyframes spin {\n",
       "    0% {\n",
       "      border-color: transparent;\n",
       "      border-bottom-color: var(--fill-color);\n",
       "      border-left-color: var(--fill-color);\n",
       "    }\n",
       "    20% {\n",
       "      border-color: transparent;\n",
       "      border-left-color: var(--fill-color);\n",
       "      border-top-color: var(--fill-color);\n",
       "    }\n",
       "    30% {\n",
       "      border-color: transparent;\n",
       "      border-left-color: var(--fill-color);\n",
       "      border-top-color: var(--fill-color);\n",
       "      border-right-color: var(--fill-color);\n",
       "    }\n",
       "    40% {\n",
       "      border-color: transparent;\n",
       "      border-right-color: var(--fill-color);\n",
       "      border-top-color: var(--fill-color);\n",
       "    }\n",
       "    60% {\n",
       "      border-color: transparent;\n",
       "      border-right-color: var(--fill-color);\n",
       "    }\n",
       "    80% {\n",
       "      border-color: transparent;\n",
       "      border-right-color: var(--fill-color);\n",
       "      border-bottom-color: var(--fill-color);\n",
       "    }\n",
       "    90% {\n",
       "      border-color: transparent;\n",
       "      border-bottom-color: var(--fill-color);\n",
       "    }\n",
       "  }\n",
       "</style>\n",
       "\n",
       "  <script>\n",
       "    async function quickchart(key) {\n",
       "      const quickchartButtonEl =\n",
       "        document.querySelector('#' + key + ' button');\n",
       "      quickchartButtonEl.disabled = true;  // To prevent multiple clicks.\n",
       "      quickchartButtonEl.classList.add('colab-df-spinner');\n",
       "      try {\n",
       "        const charts = await google.colab.kernel.invokeFunction(\n",
       "            'suggestCharts', [key], {});\n",
       "      } catch (error) {\n",
       "        console.error('Error during call to suggestCharts:', error);\n",
       "      }\n",
       "      quickchartButtonEl.classList.remove('colab-df-spinner');\n",
       "      quickchartButtonEl.classList.add('colab-df-quickchart-complete');\n",
       "    }\n",
       "    (() => {\n",
       "      let quickchartButtonEl =\n",
       "        document.querySelector('#df-a513dfb0-9c77-4419-ab36-94a70291c84d button');\n",
       "      quickchartButtonEl.style.display =\n",
       "        google.colab.kernel.accessAllowed ? 'block' : 'none';\n",
       "    })();\n",
       "  </script>\n",
       "</div>\n",
       "    </div>\n",
       "  </div>\n"
      ],
      "text/plain": [
       "     height  age  salary gender  expenditure\n",
       "0     161.9   22    4100      F         1975\n",
       "1     169.4   31    4720      F         2970\n",
       "2     168.3   55    7280      F         5905\n",
       "3     155.3   28    4060      F         2935\n",
       "4     188.6   29    4390      M         4015\n",
       "..      ...  ...     ...    ...          ...\n",
       "245   157.8   50    6990      F         4865\n",
       "246   150.4   51    7110      F         4985\n",
       "247   172.4   52    8000      M         6625\n",
       "248   166.7   53    8760      M         7385\n",
       "249   152.6   54    7470      F         6095\n",
       "\n",
       "[250 rows x 5 columns]"
      ]
     },
     "execution_count": 111,
     "metadata": {},
     "output_type": "execute_result"
    }
   ],
   "source": [
    "df[['height', 'age', 'salary', 'gender', 'expenditure']]"
   ]
  },
  {
   "cell_type": "code",
   "execution_count": 113,
   "id": "99c3d3ad",
   "metadata": {
    "colab": {
     "base_uri": "https://localhost:8080/",
     "height": 423
    },
    "id": "99c3d3ad",
    "outputId": "d1339e4a-abee-4cc4-85ad-604f1f5a77cb"
   },
   "outputs": [
    {
     "data": {
      "text/html": [
       "\n",
       "  <div id=\"df-1b3b29d2-c919-48cd-9033-ca8069a5cb49\" class=\"colab-df-container\">\n",
       "    <div>\n",
       "<style scoped>\n",
       "    .dataframe tbody tr th:only-of-type {\n",
       "        vertical-align: middle;\n",
       "    }\n",
       "\n",
       "    .dataframe tbody tr th {\n",
       "        vertical-align: top;\n",
       "    }\n",
       "\n",
       "    .dataframe thead th {\n",
       "        text-align: right;\n",
       "    }\n",
       "</style>\n",
       "<table border=\"1\" class=\"dataframe\">\n",
       "  <thead>\n",
       "    <tr style=\"text-align: right;\">\n",
       "      <th></th>\n",
       "      <th>height</th>\n",
       "      <th>age</th>\n",
       "      <th>salary</th>\n",
       "      <th>expenditure</th>\n",
       "      <th>blood_type_A</th>\n",
       "      <th>blood_type_AB</th>\n",
       "      <th>blood_type_B</th>\n",
       "      <th>blood_type_O</th>\n",
       "    </tr>\n",
       "  </thead>\n",
       "  <tbody>\n",
       "    <tr>\n",
       "      <th>0</th>\n",
       "      <td>161.9</td>\n",
       "      <td>22</td>\n",
       "      <td>4100</td>\n",
       "      <td>1975</td>\n",
       "      <td>1</td>\n",
       "      <td>0</td>\n",
       "      <td>0</td>\n",
       "      <td>0</td>\n",
       "    </tr>\n",
       "    <tr>\n",
       "      <th>1</th>\n",
       "      <td>169.4</td>\n",
       "      <td>31</td>\n",
       "      <td>4720</td>\n",
       "      <td>2970</td>\n",
       "      <td>1</td>\n",
       "      <td>0</td>\n",
       "      <td>0</td>\n",
       "      <td>0</td>\n",
       "    </tr>\n",
       "    <tr>\n",
       "      <th>2</th>\n",
       "      <td>168.3</td>\n",
       "      <td>55</td>\n",
       "      <td>7280</td>\n",
       "      <td>5905</td>\n",
       "      <td>1</td>\n",
       "      <td>0</td>\n",
       "      <td>0</td>\n",
       "      <td>0</td>\n",
       "    </tr>\n",
       "    <tr>\n",
       "      <th>3</th>\n",
       "      <td>155.3</td>\n",
       "      <td>28</td>\n",
       "      <td>4060</td>\n",
       "      <td>2935</td>\n",
       "      <td>0</td>\n",
       "      <td>1</td>\n",
       "      <td>0</td>\n",
       "      <td>0</td>\n",
       "    </tr>\n",
       "    <tr>\n",
       "      <th>4</th>\n",
       "      <td>188.6</td>\n",
       "      <td>29</td>\n",
       "      <td>4390</td>\n",
       "      <td>4015</td>\n",
       "      <td>0</td>\n",
       "      <td>0</td>\n",
       "      <td>0</td>\n",
       "      <td>1</td>\n",
       "    </tr>\n",
       "    <tr>\n",
       "      <th>...</th>\n",
       "      <td>...</td>\n",
       "      <td>...</td>\n",
       "      <td>...</td>\n",
       "      <td>...</td>\n",
       "      <td>...</td>\n",
       "      <td>...</td>\n",
       "      <td>...</td>\n",
       "      <td>...</td>\n",
       "    </tr>\n",
       "    <tr>\n",
       "      <th>245</th>\n",
       "      <td>157.8</td>\n",
       "      <td>50</td>\n",
       "      <td>6990</td>\n",
       "      <td>4865</td>\n",
       "      <td>1</td>\n",
       "      <td>0</td>\n",
       "      <td>0</td>\n",
       "      <td>0</td>\n",
       "    </tr>\n",
       "    <tr>\n",
       "      <th>246</th>\n",
       "      <td>150.4</td>\n",
       "      <td>51</td>\n",
       "      <td>7110</td>\n",
       "      <td>4985</td>\n",
       "      <td>0</td>\n",
       "      <td>0</td>\n",
       "      <td>0</td>\n",
       "      <td>1</td>\n",
       "    </tr>\n",
       "    <tr>\n",
       "      <th>247</th>\n",
       "      <td>172.4</td>\n",
       "      <td>52</td>\n",
       "      <td>8000</td>\n",
       "      <td>6625</td>\n",
       "      <td>1</td>\n",
       "      <td>0</td>\n",
       "      <td>0</td>\n",
       "      <td>0</td>\n",
       "    </tr>\n",
       "    <tr>\n",
       "      <th>248</th>\n",
       "      <td>166.7</td>\n",
       "      <td>53</td>\n",
       "      <td>8760</td>\n",
       "      <td>7385</td>\n",
       "      <td>0</td>\n",
       "      <td>0</td>\n",
       "      <td>0</td>\n",
       "      <td>1</td>\n",
       "    </tr>\n",
       "    <tr>\n",
       "      <th>249</th>\n",
       "      <td>152.6</td>\n",
       "      <td>54</td>\n",
       "      <td>7470</td>\n",
       "      <td>6095</td>\n",
       "      <td>0</td>\n",
       "      <td>0</td>\n",
       "      <td>1</td>\n",
       "      <td>0</td>\n",
       "    </tr>\n",
       "  </tbody>\n",
       "</table>\n",
       "<p>250 rows × 8 columns</p>\n",
       "</div>\n",
       "    <div class=\"colab-df-buttons\">\n",
       "\n",
       "  <div class=\"colab-df-container\">\n",
       "    <button class=\"colab-df-convert\" onclick=\"convertToInteractive('df-1b3b29d2-c919-48cd-9033-ca8069a5cb49')\"\n",
       "            title=\"Convert this dataframe to an interactive table.\"\n",
       "            style=\"display:none;\">\n",
       "\n",
       "  <svg xmlns=\"http://www.w3.org/2000/svg\" height=\"24px\" viewBox=\"0 -960 960 960\">\n",
       "    <path d=\"M120-120v-720h720v720H120Zm60-500h600v-160H180v160Zm220 220h160v-160H400v160Zm0 220h160v-160H400v160ZM180-400h160v-160H180v160Zm440 0h160v-160H620v160ZM180-180h160v-160H180v160Zm440 0h160v-160H620v160Z\"/>\n",
       "  </svg>\n",
       "    </button>\n",
       "\n",
       "  <style>\n",
       "    .colab-df-container {\n",
       "      display:flex;\n",
       "      gap: 12px;\n",
       "    }\n",
       "\n",
       "    .colab-df-convert {\n",
       "      background-color: #E8F0FE;\n",
       "      border: none;\n",
       "      border-radius: 50%;\n",
       "      cursor: pointer;\n",
       "      display: none;\n",
       "      fill: #1967D2;\n",
       "      height: 32px;\n",
       "      padding: 0 0 0 0;\n",
       "      width: 32px;\n",
       "    }\n",
       "\n",
       "    .colab-df-convert:hover {\n",
       "      background-color: #E2EBFA;\n",
       "      box-shadow: 0px 1px 2px rgba(60, 64, 67, 0.3), 0px 1px 3px 1px rgba(60, 64, 67, 0.15);\n",
       "      fill: #174EA6;\n",
       "    }\n",
       "\n",
       "    .colab-df-buttons div {\n",
       "      margin-bottom: 4px;\n",
       "    }\n",
       "\n",
       "    [theme=dark] .colab-df-convert {\n",
       "      background-color: #3B4455;\n",
       "      fill: #D2E3FC;\n",
       "    }\n",
       "\n",
       "    [theme=dark] .colab-df-convert:hover {\n",
       "      background-color: #434B5C;\n",
       "      box-shadow: 0px 1px 3px 1px rgba(0, 0, 0, 0.15);\n",
       "      filter: drop-shadow(0px 1px 2px rgba(0, 0, 0, 0.3));\n",
       "      fill: #FFFFFF;\n",
       "    }\n",
       "  </style>\n",
       "\n",
       "    <script>\n",
       "      const buttonEl =\n",
       "        document.querySelector('#df-1b3b29d2-c919-48cd-9033-ca8069a5cb49 button.colab-df-convert');\n",
       "      buttonEl.style.display =\n",
       "        google.colab.kernel.accessAllowed ? 'block' : 'none';\n",
       "\n",
       "      async function convertToInteractive(key) {\n",
       "        const element = document.querySelector('#df-1b3b29d2-c919-48cd-9033-ca8069a5cb49');\n",
       "        const dataTable =\n",
       "          await google.colab.kernel.invokeFunction('convertToInteractive',\n",
       "                                                    [key], {});\n",
       "        if (!dataTable) return;\n",
       "\n",
       "        const docLinkHtml = 'Like what you see? Visit the ' +\n",
       "          '<a target=\"_blank\" href=https://colab.research.google.com/notebooks/data_table.ipynb>data table notebook</a>'\n",
       "          + ' to learn more about interactive tables.';\n",
       "        element.innerHTML = '';\n",
       "        dataTable['output_type'] = 'display_data';\n",
       "        await google.colab.output.renderOutput(dataTable, element);\n",
       "        const docLink = document.createElement('div');\n",
       "        docLink.innerHTML = docLinkHtml;\n",
       "        element.appendChild(docLink);\n",
       "      }\n",
       "    </script>\n",
       "  </div>\n",
       "\n",
       "\n",
       "<div id=\"df-ed89d47b-1c3a-4c48-95c7-eab272513ec3\">\n",
       "  <button class=\"colab-df-quickchart\" onclick=\"quickchart('df-ed89d47b-1c3a-4c48-95c7-eab272513ec3')\"\n",
       "            title=\"Suggest charts.\"\n",
       "            style=\"display:none;\">\n",
       "\n",
       "<svg xmlns=\"http://www.w3.org/2000/svg\" height=\"24px\"viewBox=\"0 0 24 24\"\n",
       "     width=\"24px\">\n",
       "    <g>\n",
       "        <path d=\"M19 3H5c-1.1 0-2 .9-2 2v14c0 1.1.9 2 2 2h14c1.1 0 2-.9 2-2V5c0-1.1-.9-2-2-2zM9 17H7v-7h2v7zm4 0h-2V7h2v10zm4 0h-2v-4h2v4z\"/>\n",
       "    </g>\n",
       "</svg>\n",
       "  </button>\n",
       "\n",
       "<style>\n",
       "  .colab-df-quickchart {\n",
       "      --bg-color: #E8F0FE;\n",
       "      --fill-color: #1967D2;\n",
       "      --hover-bg-color: #E2EBFA;\n",
       "      --hover-fill-color: #174EA6;\n",
       "      --disabled-fill-color: #AAA;\n",
       "      --disabled-bg-color: #DDD;\n",
       "  }\n",
       "\n",
       "  [theme=dark] .colab-df-quickchart {\n",
       "      --bg-color: #3B4455;\n",
       "      --fill-color: #D2E3FC;\n",
       "      --hover-bg-color: #434B5C;\n",
       "      --hover-fill-color: #FFFFFF;\n",
       "      --disabled-bg-color: #3B4455;\n",
       "      --disabled-fill-color: #666;\n",
       "  }\n",
       "\n",
       "  .colab-df-quickchart {\n",
       "    background-color: var(--bg-color);\n",
       "    border: none;\n",
       "    border-radius: 50%;\n",
       "    cursor: pointer;\n",
       "    display: none;\n",
       "    fill: var(--fill-color);\n",
       "    height: 32px;\n",
       "    padding: 0;\n",
       "    width: 32px;\n",
       "  }\n",
       "\n",
       "  .colab-df-quickchart:hover {\n",
       "    background-color: var(--hover-bg-color);\n",
       "    box-shadow: 0 1px 2px rgba(60, 64, 67, 0.3), 0 1px 3px 1px rgba(60, 64, 67, 0.15);\n",
       "    fill: var(--button-hover-fill-color);\n",
       "  }\n",
       "\n",
       "  .colab-df-quickchart-complete:disabled,\n",
       "  .colab-df-quickchart-complete:disabled:hover {\n",
       "    background-color: var(--disabled-bg-color);\n",
       "    fill: var(--disabled-fill-color);\n",
       "    box-shadow: none;\n",
       "  }\n",
       "\n",
       "  .colab-df-spinner {\n",
       "    border: 2px solid var(--fill-color);\n",
       "    border-color: transparent;\n",
       "    border-bottom-color: var(--fill-color);\n",
       "    animation:\n",
       "      spin 1s steps(1) infinite;\n",
       "  }\n",
       "\n",
       "  @keyframes spin {\n",
       "    0% {\n",
       "      border-color: transparent;\n",
       "      border-bottom-color: var(--fill-color);\n",
       "      border-left-color: var(--fill-color);\n",
       "    }\n",
       "    20% {\n",
       "      border-color: transparent;\n",
       "      border-left-color: var(--fill-color);\n",
       "      border-top-color: var(--fill-color);\n",
       "    }\n",
       "    30% {\n",
       "      border-color: transparent;\n",
       "      border-left-color: var(--fill-color);\n",
       "      border-top-color: var(--fill-color);\n",
       "      border-right-color: var(--fill-color);\n",
       "    }\n",
       "    40% {\n",
       "      border-color: transparent;\n",
       "      border-right-color: var(--fill-color);\n",
       "      border-top-color: var(--fill-color);\n",
       "    }\n",
       "    60% {\n",
       "      border-color: transparent;\n",
       "      border-right-color: var(--fill-color);\n",
       "    }\n",
       "    80% {\n",
       "      border-color: transparent;\n",
       "      border-right-color: var(--fill-color);\n",
       "      border-bottom-color: var(--fill-color);\n",
       "    }\n",
       "    90% {\n",
       "      border-color: transparent;\n",
       "      border-bottom-color: var(--fill-color);\n",
       "    }\n",
       "  }\n",
       "</style>\n",
       "\n",
       "  <script>\n",
       "    async function quickchart(key) {\n",
       "      const quickchartButtonEl =\n",
       "        document.querySelector('#' + key + ' button');\n",
       "      quickchartButtonEl.disabled = true;  // To prevent multiple clicks.\n",
       "      quickchartButtonEl.classList.add('colab-df-spinner');\n",
       "      try {\n",
       "        const charts = await google.colab.kernel.invokeFunction(\n",
       "            'suggestCharts', [key], {});\n",
       "      } catch (error) {\n",
       "        console.error('Error during call to suggestCharts:', error);\n",
       "      }\n",
       "      quickchartButtonEl.classList.remove('colab-df-spinner');\n",
       "      quickchartButtonEl.classList.add('colab-df-quickchart-complete');\n",
       "    }\n",
       "    (() => {\n",
       "      let quickchartButtonEl =\n",
       "        document.querySelector('#df-ed89d47b-1c3a-4c48-95c7-eab272513ec3 button');\n",
       "      quickchartButtonEl.style.display =\n",
       "        google.colab.kernel.accessAllowed ? 'block' : 'none';\n",
       "    })();\n",
       "  </script>\n",
       "</div>\n",
       "    </div>\n",
       "  </div>\n"
      ],
      "text/plain": [
       "     height  age  salary  expenditure  blood_type_A  blood_type_AB  \\\n",
       "0     161.9   22    4100         1975             1              0   \n",
       "1     169.4   31    4720         2970             1              0   \n",
       "2     168.3   55    7280         5905             1              0   \n",
       "3     155.3   28    4060         2935             0              1   \n",
       "4     188.6   29    4390         4015             0              0   \n",
       "..      ...  ...     ...          ...           ...            ...   \n",
       "245   157.8   50    6990         4865             1              0   \n",
       "246   150.4   51    7110         4985             0              0   \n",
       "247   172.4   52    8000         6625             1              0   \n",
       "248   166.7   53    8760         7385             0              0   \n",
       "249   152.6   54    7470         6095             0              0   \n",
       "\n",
       "     blood_type_B  blood_type_O  \n",
       "0               0             0  \n",
       "1               0             0  \n",
       "2               0             0  \n",
       "3               0             0  \n",
       "4               0             1  \n",
       "..            ...           ...  \n",
       "245             0             0  \n",
       "246             0             1  \n",
       "247             0             0  \n",
       "248             0             1  \n",
       "249             1             0  \n",
       "\n",
       "[250 rows x 8 columns]"
      ]
     },
     "execution_count": 113,
     "metadata": {},
     "output_type": "execute_result"
    }
   ],
   "source": [
    "# ['height', 'age', 'salary', 'blood_type', 'expenditure'],  ['blood_type']을 가변수화해보세요\n"
   ]
  },
  {
   "cell_type": "code",
   "execution_count": 114,
   "id": "da9dbfa3",
   "metadata": {
    "colab": {
     "base_uri": "https://localhost:8080/",
     "height": 423
    },
    "id": "da9dbfa3",
    "outputId": "5f19dda3-5c11-4488-a7f7-c28c4dea7d96"
   },
   "outputs": [
    {
     "data": {
      "text/html": [
       "\n",
       "  <div id=\"df-1e087c08-0510-4f7e-bdb1-5a28aa838e1e\" class=\"colab-df-container\">\n",
       "    <div>\n",
       "<style scoped>\n",
       "    .dataframe tbody tr th:only-of-type {\n",
       "        vertical-align: middle;\n",
       "    }\n",
       "\n",
       "    .dataframe tbody tr th {\n",
       "        vertical-align: top;\n",
       "    }\n",
       "\n",
       "    .dataframe thead th {\n",
       "        text-align: right;\n",
       "    }\n",
       "</style>\n",
       "<table border=\"1\" class=\"dataframe\">\n",
       "  <thead>\n",
       "    <tr style=\"text-align: right;\">\n",
       "      <th></th>\n",
       "      <th>height</th>\n",
       "      <th>age</th>\n",
       "      <th>salary</th>\n",
       "      <th>expenditure</th>\n",
       "      <th>gender_M</th>\n",
       "    </tr>\n",
       "  </thead>\n",
       "  <tbody>\n",
       "    <tr>\n",
       "      <th>0</th>\n",
       "      <td>161.9</td>\n",
       "      <td>22</td>\n",
       "      <td>4100</td>\n",
       "      <td>1975</td>\n",
       "      <td>0</td>\n",
       "    </tr>\n",
       "    <tr>\n",
       "      <th>1</th>\n",
       "      <td>169.4</td>\n",
       "      <td>31</td>\n",
       "      <td>4720</td>\n",
       "      <td>2970</td>\n",
       "      <td>0</td>\n",
       "    </tr>\n",
       "    <tr>\n",
       "      <th>2</th>\n",
       "      <td>168.3</td>\n",
       "      <td>55</td>\n",
       "      <td>7280</td>\n",
       "      <td>5905</td>\n",
       "      <td>0</td>\n",
       "    </tr>\n",
       "    <tr>\n",
       "      <th>3</th>\n",
       "      <td>155.3</td>\n",
       "      <td>28</td>\n",
       "      <td>4060</td>\n",
       "      <td>2935</td>\n",
       "      <td>0</td>\n",
       "    </tr>\n",
       "    <tr>\n",
       "      <th>4</th>\n",
       "      <td>188.6</td>\n",
       "      <td>29</td>\n",
       "      <td>4390</td>\n",
       "      <td>4015</td>\n",
       "      <td>1</td>\n",
       "    </tr>\n",
       "    <tr>\n",
       "      <th>...</th>\n",
       "      <td>...</td>\n",
       "      <td>...</td>\n",
       "      <td>...</td>\n",
       "      <td>...</td>\n",
       "      <td>...</td>\n",
       "    </tr>\n",
       "    <tr>\n",
       "      <th>245</th>\n",
       "      <td>157.8</td>\n",
       "      <td>50</td>\n",
       "      <td>6990</td>\n",
       "      <td>4865</td>\n",
       "      <td>0</td>\n",
       "    </tr>\n",
       "    <tr>\n",
       "      <th>246</th>\n",
       "      <td>150.4</td>\n",
       "      <td>51</td>\n",
       "      <td>7110</td>\n",
       "      <td>4985</td>\n",
       "      <td>0</td>\n",
       "    </tr>\n",
       "    <tr>\n",
       "      <th>247</th>\n",
       "      <td>172.4</td>\n",
       "      <td>52</td>\n",
       "      <td>8000</td>\n",
       "      <td>6625</td>\n",
       "      <td>1</td>\n",
       "    </tr>\n",
       "    <tr>\n",
       "      <th>248</th>\n",
       "      <td>166.7</td>\n",
       "      <td>53</td>\n",
       "      <td>8760</td>\n",
       "      <td>7385</td>\n",
       "      <td>1</td>\n",
       "    </tr>\n",
       "    <tr>\n",
       "      <th>249</th>\n",
       "      <td>152.6</td>\n",
       "      <td>54</td>\n",
       "      <td>7470</td>\n",
       "      <td>6095</td>\n",
       "      <td>0</td>\n",
       "    </tr>\n",
       "  </tbody>\n",
       "</table>\n",
       "<p>250 rows × 5 columns</p>\n",
       "</div>\n",
       "    <div class=\"colab-df-buttons\">\n",
       "\n",
       "  <div class=\"colab-df-container\">\n",
       "    <button class=\"colab-df-convert\" onclick=\"convertToInteractive('df-1e087c08-0510-4f7e-bdb1-5a28aa838e1e')\"\n",
       "            title=\"Convert this dataframe to an interactive table.\"\n",
       "            style=\"display:none;\">\n",
       "\n",
       "  <svg xmlns=\"http://www.w3.org/2000/svg\" height=\"24px\" viewBox=\"0 -960 960 960\">\n",
       "    <path d=\"M120-120v-720h720v720H120Zm60-500h600v-160H180v160Zm220 220h160v-160H400v160Zm0 220h160v-160H400v160ZM180-400h160v-160H180v160Zm440 0h160v-160H620v160ZM180-180h160v-160H180v160Zm440 0h160v-160H620v160Z\"/>\n",
       "  </svg>\n",
       "    </button>\n",
       "\n",
       "  <style>\n",
       "    .colab-df-container {\n",
       "      display:flex;\n",
       "      gap: 12px;\n",
       "    }\n",
       "\n",
       "    .colab-df-convert {\n",
       "      background-color: #E8F0FE;\n",
       "      border: none;\n",
       "      border-radius: 50%;\n",
       "      cursor: pointer;\n",
       "      display: none;\n",
       "      fill: #1967D2;\n",
       "      height: 32px;\n",
       "      padding: 0 0 0 0;\n",
       "      width: 32px;\n",
       "    }\n",
       "\n",
       "    .colab-df-convert:hover {\n",
       "      background-color: #E2EBFA;\n",
       "      box-shadow: 0px 1px 2px rgba(60, 64, 67, 0.3), 0px 1px 3px 1px rgba(60, 64, 67, 0.15);\n",
       "      fill: #174EA6;\n",
       "    }\n",
       "\n",
       "    .colab-df-buttons div {\n",
       "      margin-bottom: 4px;\n",
       "    }\n",
       "\n",
       "    [theme=dark] .colab-df-convert {\n",
       "      background-color: #3B4455;\n",
       "      fill: #D2E3FC;\n",
       "    }\n",
       "\n",
       "    [theme=dark] .colab-df-convert:hover {\n",
       "      background-color: #434B5C;\n",
       "      box-shadow: 0px 1px 3px 1px rgba(0, 0, 0, 0.15);\n",
       "      filter: drop-shadow(0px 1px 2px rgba(0, 0, 0, 0.3));\n",
       "      fill: #FFFFFF;\n",
       "    }\n",
       "  </style>\n",
       "\n",
       "    <script>\n",
       "      const buttonEl =\n",
       "        document.querySelector('#df-1e087c08-0510-4f7e-bdb1-5a28aa838e1e button.colab-df-convert');\n",
       "      buttonEl.style.display =\n",
       "        google.colab.kernel.accessAllowed ? 'block' : 'none';\n",
       "\n",
       "      async function convertToInteractive(key) {\n",
       "        const element = document.querySelector('#df-1e087c08-0510-4f7e-bdb1-5a28aa838e1e');\n",
       "        const dataTable =\n",
       "          await google.colab.kernel.invokeFunction('convertToInteractive',\n",
       "                                                    [key], {});\n",
       "        if (!dataTable) return;\n",
       "\n",
       "        const docLinkHtml = 'Like what you see? Visit the ' +\n",
       "          '<a target=\"_blank\" href=https://colab.research.google.com/notebooks/data_table.ipynb>data table notebook</a>'\n",
       "          + ' to learn more about interactive tables.';\n",
       "        element.innerHTML = '';\n",
       "        dataTable['output_type'] = 'display_data';\n",
       "        await google.colab.output.renderOutput(dataTable, element);\n",
       "        const docLink = document.createElement('div');\n",
       "        docLink.innerHTML = docLinkHtml;\n",
       "        element.appendChild(docLink);\n",
       "      }\n",
       "    </script>\n",
       "  </div>\n",
       "\n",
       "\n",
       "<div id=\"df-e3edd3b0-b8b6-4a1f-88f6-894a3f0fdb68\">\n",
       "  <button class=\"colab-df-quickchart\" onclick=\"quickchart('df-e3edd3b0-b8b6-4a1f-88f6-894a3f0fdb68')\"\n",
       "            title=\"Suggest charts.\"\n",
       "            style=\"display:none;\">\n",
       "\n",
       "<svg xmlns=\"http://www.w3.org/2000/svg\" height=\"24px\"viewBox=\"0 0 24 24\"\n",
       "     width=\"24px\">\n",
       "    <g>\n",
       "        <path d=\"M19 3H5c-1.1 0-2 .9-2 2v14c0 1.1.9 2 2 2h14c1.1 0 2-.9 2-2V5c0-1.1-.9-2-2-2zM9 17H7v-7h2v7zm4 0h-2V7h2v10zm4 0h-2v-4h2v4z\"/>\n",
       "    </g>\n",
       "</svg>\n",
       "  </button>\n",
       "\n",
       "<style>\n",
       "  .colab-df-quickchart {\n",
       "      --bg-color: #E8F0FE;\n",
       "      --fill-color: #1967D2;\n",
       "      --hover-bg-color: #E2EBFA;\n",
       "      --hover-fill-color: #174EA6;\n",
       "      --disabled-fill-color: #AAA;\n",
       "      --disabled-bg-color: #DDD;\n",
       "  }\n",
       "\n",
       "  [theme=dark] .colab-df-quickchart {\n",
       "      --bg-color: #3B4455;\n",
       "      --fill-color: #D2E3FC;\n",
       "      --hover-bg-color: #434B5C;\n",
       "      --hover-fill-color: #FFFFFF;\n",
       "      --disabled-bg-color: #3B4455;\n",
       "      --disabled-fill-color: #666;\n",
       "  }\n",
       "\n",
       "  .colab-df-quickchart {\n",
       "    background-color: var(--bg-color);\n",
       "    border: none;\n",
       "    border-radius: 50%;\n",
       "    cursor: pointer;\n",
       "    display: none;\n",
       "    fill: var(--fill-color);\n",
       "    height: 32px;\n",
       "    padding: 0;\n",
       "    width: 32px;\n",
       "  }\n",
       "\n",
       "  .colab-df-quickchart:hover {\n",
       "    background-color: var(--hover-bg-color);\n",
       "    box-shadow: 0 1px 2px rgba(60, 64, 67, 0.3), 0 1px 3px 1px rgba(60, 64, 67, 0.15);\n",
       "    fill: var(--button-hover-fill-color);\n",
       "  }\n",
       "\n",
       "  .colab-df-quickchart-complete:disabled,\n",
       "  .colab-df-quickchart-complete:disabled:hover {\n",
       "    background-color: var(--disabled-bg-color);\n",
       "    fill: var(--disabled-fill-color);\n",
       "    box-shadow: none;\n",
       "  }\n",
       "\n",
       "  .colab-df-spinner {\n",
       "    border: 2px solid var(--fill-color);\n",
       "    border-color: transparent;\n",
       "    border-bottom-color: var(--fill-color);\n",
       "    animation:\n",
       "      spin 1s steps(1) infinite;\n",
       "  }\n",
       "\n",
       "  @keyframes spin {\n",
       "    0% {\n",
       "      border-color: transparent;\n",
       "      border-bottom-color: var(--fill-color);\n",
       "      border-left-color: var(--fill-color);\n",
       "    }\n",
       "    20% {\n",
       "      border-color: transparent;\n",
       "      border-left-color: var(--fill-color);\n",
       "      border-top-color: var(--fill-color);\n",
       "    }\n",
       "    30% {\n",
       "      border-color: transparent;\n",
       "      border-left-color: var(--fill-color);\n",
       "      border-top-color: var(--fill-color);\n",
       "      border-right-color: var(--fill-color);\n",
       "    }\n",
       "    40% {\n",
       "      border-color: transparent;\n",
       "      border-right-color: var(--fill-color);\n",
       "      border-top-color: var(--fill-color);\n",
       "    }\n",
       "    60% {\n",
       "      border-color: transparent;\n",
       "      border-right-color: var(--fill-color);\n",
       "    }\n",
       "    80% {\n",
       "      border-color: transparent;\n",
       "      border-right-color: var(--fill-color);\n",
       "      border-bottom-color: var(--fill-color);\n",
       "    }\n",
       "    90% {\n",
       "      border-color: transparent;\n",
       "      border-bottom-color: var(--fill-color);\n",
       "    }\n",
       "  }\n",
       "</style>\n",
       "\n",
       "  <script>\n",
       "    async function quickchart(key) {\n",
       "      const quickchartButtonEl =\n",
       "        document.querySelector('#' + key + ' button');\n",
       "      quickchartButtonEl.disabled = true;  // To prevent multiple clicks.\n",
       "      quickchartButtonEl.classList.add('colab-df-spinner');\n",
       "      try {\n",
       "        const charts = await google.colab.kernel.invokeFunction(\n",
       "            'suggestCharts', [key], {});\n",
       "      } catch (error) {\n",
       "        console.error('Error during call to suggestCharts:', error);\n",
       "      }\n",
       "      quickchartButtonEl.classList.remove('colab-df-spinner');\n",
       "      quickchartButtonEl.classList.add('colab-df-quickchart-complete');\n",
       "    }\n",
       "    (() => {\n",
       "      let quickchartButtonEl =\n",
       "        document.querySelector('#df-e3edd3b0-b8b6-4a1f-88f6-894a3f0fdb68 button');\n",
       "      quickchartButtonEl.style.display =\n",
       "        google.colab.kernel.accessAllowed ? 'block' : 'none';\n",
       "    })();\n",
       "  </script>\n",
       "</div>\n",
       "    </div>\n",
       "  </div>\n"
      ],
      "text/plain": [
       "     height  age  salary  expenditure  gender_M\n",
       "0     161.9   22    4100         1975         0\n",
       "1     169.4   31    4720         2970         0\n",
       "2     168.3   55    7280         5905         0\n",
       "3     155.3   28    4060         2935         0\n",
       "4     188.6   29    4390         4015         1\n",
       "..      ...  ...     ...          ...       ...\n",
       "245   157.8   50    6990         4865         0\n",
       "246   150.4   51    7110         4985         0\n",
       "247   172.4   52    8000         6625         1\n",
       "248   166.7   53    8760         7385         1\n",
       "249   152.6   54    7470         6095         0\n",
       "\n",
       "[250 rows x 5 columns]"
      ]
     },
     "execution_count": 114,
     "metadata": {},
     "output_type": "execute_result"
    }
   ],
   "source": [
    "# 가변수화로 인해 발생하는 완전한 다중공선성을 제거하기 위해 첫번째 범주를 제외\n"
   ]
  },
  {
   "cell_type": "code",
   "execution_count": 115,
   "id": "da225253",
   "metadata": {
    "colab": {
     "base_uri": "https://localhost:8080/"
    },
    "id": "da225253",
    "outputId": "8e55d725-8c61-4b0b-cd32-b1cc86f56eb8"
   },
   "outputs": [
    {
     "data": {
      "text/plain": [
       "0.947630331409417"
      ]
     },
     "execution_count": 115,
     "metadata": {},
     "output_type": "execute_result"
    }
   ],
   "source": [
    "from sklearn.linear_model import LinearRegression\n",
    "from sklearn.metrics import r2_score\n",
    "\n",
    "# expenditure를 대상변수\n",
    "# 'height', 'age', 'salary', 'gender_M'을 입력변수로 선형회귀 모델만들고\n",
    "# r2 score구하기 \n"
   ]
  },
  {
   "cell_type": "code",
   "execution_count": null,
   "id": "ca34e370",
   "metadata": {
    "id": "ca34e370"
   },
   "outputs": [],
   "source": []
  }
 ],
 "metadata": {
  "colab": {
   "provenance": []
  },
  "kernelspec": {
   "display_name": "Python 3 (ipykernel)",
   "language": "python",
   "name": "python3"
  },
  "language_info": {
   "codemirror_mode": {
    "name": "ipython",
    "version": 3
   },
   "file_extension": ".py",
   "mimetype": "text/x-python",
   "name": "python",
   "nbconvert_exporter": "python",
   "pygments_lexer": "ipython3",
   "version": "3.7.4"
  }
 },
 "nbformat": 4,
 "nbformat_minor": 5
}
